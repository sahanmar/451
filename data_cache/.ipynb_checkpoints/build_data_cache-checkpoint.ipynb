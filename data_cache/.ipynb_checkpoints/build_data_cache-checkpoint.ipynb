{
 "cells": [
  {
   "cell_type": "markdown",
   "id": "9b424ba0-9394-4411-a475-cffe1d9c7fce",
   "metadata": {},
   "source": [
    "## Create Data Cache:"
   ]
  },
  {
   "cell_type": "code",
   "execution_count": 5,
   "id": "d77b1094-5c00-4c46-8065-0e9892e15028",
   "metadata": {
    "iooxa": {
     "id": {
      "block": "FrkUPeD1VXG9V8zSSfh8",
      "project": "cNRcIFOMOBAHj5O57Joq",
      "version": 1
     },
     "outputId": {
      "block": "zlAgkbC1M5B0QnHjKdn0",
      "project": "cNRcIFOMOBAHj5O57Joq",
      "version": 1
     }
    }
   },
   "outputs": [
    {
     "name": "stderr",
     "output_type": "stream",
     "text": [
      "UKCH Company er map: 100%|██████████| 5107631/5107631 [00:05<00:00, 953235.19it/s] \n",
      "Officer (person) er map: 100%|██████████| 10035057/10035057 [00:23<00:00, 422416.04it/s]\n",
      "Officer (company) er map: 100%|██████████| 313158/313158 [00:00<00:00, 756575.34it/s]\n",
      "PSC (company) er map: 100%|██████████| 702472/702472 [00:00<00:00, 859221.68it/s]\n",
      "PSC (person) er map: 100%|██████████| 9012596/9012596 [00:25<00:00, 355636.44it/s]"
     ]
    },
    {
     "name": "stdout",
     "output_type": "stream",
     "text": [
      "CPU times: user 2min 33s, sys: 48.9 s, total: 3min 21s\n",
      "Wall time: 4min 29s\n"
     ]
    },
    {
     "name": "stderr",
     "output_type": "stream",
     "text": [
      "\n"
     ]
    }
   ],
   "source": [
    "%%time\n",
    "from data_cache.utils import ProduceEntityResolution\n",
    "from data_cache.schema import schema\n",
    "\n",
    "from unidecode import unidecode\n",
    "import pandas as pd\n",
    "\n",
    "# For more info on sources, see data_cache/DATA_SCHEMA_README:\n",
    "company_df = pd.read_parquet(schema['ukch_companies'])\n",
    "officer_df = pd.read_parquet(schema['ukch_officers'])\n",
    "psc_company_df = pd.read_parquet(schema['psc_company'])\n",
    "psc_person_df = pd.read_parquet(schema['psc_person'])\n",
    "\n",
    "all_politicians = pd.read_csv(schema['politicians_parsed'])\n",
    "all_politicians = all_politicians.where(pd.notnull(all_politicians), None)\n",
    "\n",
    "ru_bl_peps = pd.read_csv(schema['ru_bl_peps_parsed'])\n",
    "ru_bl_peps = ru_bl_peps.where(pd.notnull(ru_bl_peps), None)\n",
    "\n",
    "un_sanctions = pd.read_csv(schema['un_parsed'])\n",
    "un_sanctions = un_sanctions.where(pd.notnull(un_sanctions), None)\n",
    "\n",
    "per = ProduceEntityResolution(company_df)\n",
    "per.resolve_entities(company_df, officer_df, psc_company_df, psc_person_df)"
   ]
  },
  {
   "cell_type": "markdown",
   "id": "eb76af3a-8a7b-4864-b034-f30ba8d69e4e",
   "metadata": {
    "iooxa": {
     "id": {
      "block": "8Ky77gWt42j1Xau0trNJ",
      "project": "cNRcIFOMOBAHj5O57Joq",
      "version": 1
     }
    }
   },
   "source": [
    "## Graph Building and Breaking down into subnetworks:"
   ]
  },
  {
   "cell_type": "code",
   "execution_count": 6,
   "id": "af6a9b94-1c68-4fa1-959d-db497d796de3",
   "metadata": {
    "iooxa": {
     "id": {
      "block": "Z2iDuhiAMrSLfhPmW232",
      "project": "cNRcIFOMOBAHj5O57Joq",
      "version": 1
     },
     "outputId": {
      "block": "as1z2tZl1DsTqxwV8anY",
      "project": "cNRcIFOMOBAHj5O57Joq",
      "version": 1
     }
    }
   },
   "outputs": [
    {
     "name": "stderr",
     "output_type": "stream",
     "text": [
      "PSC company graph: 702472it [00:03, 180621.51it/s]\n",
      "PSC person graph: 9012596it [01:01, 145691.31it/s]\n",
      "Officer graph: 10348215it [00:42, 241512.75it/s]\n"
     ]
    },
    {
     "name": "stdout",
     "output_type": "stream",
     "text": [
      "Top 10 Connected component sizes: [4373053, 1630, 1313, 760, 753, 512, 430, 409, 355, 346]\n"
     ]
    },
    {
     "name": "stderr",
     "output_type": "stream",
     "text": [
      "Breaking down Giant CC (size 4373053): 100%|██████████| 4373053/4373053 [05:18<00:00, 13723.90it/s]\n"
     ]
    },
    {
     "name": "stdout",
     "output_type": "stream",
     "text": [
      "Giant Component of size 4373053 was broken down.\n",
      "    Added 3139321 neighbourhoods, \n",
      "    Sum of all nodes = 217725726\n",
      "    Overhead ratio=49.78803732769761\n",
      "\n"
     ]
    },
    {
     "name": "stderr",
     "output_type": "stream",
     "text": [
      "Breaking down Giant CC (size 1630): 100%|██████████| 1630/1630 [00:00<00:00, 8143.89it/s]\n"
     ]
    },
    {
     "name": "stdout",
     "output_type": "stream",
     "text": [
      "Giant Component of size 1630 was broken down.\n",
      "    Added 1443 neighbourhoods, \n",
      "    Sum of all nodes = 330985\n",
      "    Overhead ratio=203.05828220858896\n",
      "\n"
     ]
    },
    {
     "name": "stderr",
     "output_type": "stream",
     "text": [
      "Breaking down Giant CC (size 1313): 100%|██████████| 1313/1313 [00:00<00:00, 2181.59it/s]\n"
     ]
    },
    {
     "name": "stdout",
     "output_type": "stream",
     "text": [
      "Giant Component of size 1313 was broken down.\n",
      "    Added 84 neighbourhoods, \n",
      "    Sum of all nodes = 16293\n",
      "    Overhead ratio=12.408987052551408\n",
      "\n",
      "CPU times: user 7min 51s, sys: 14.1 s, total: 8min 5s\n",
      "Wall time: 8min 3s\n"
     ]
    }
   ],
   "source": [
    "%%time\n",
    "from data_cache.utils import GraphBuilder\n",
    "gb = GraphBuilder()\n",
    "gb.build(per, psc_company_df, psc_person_df, officer_df)\n",
    "gb.break_into_subgraphs(1000)"
   ]
  },
  {
   "cell_type": "markdown",
   "id": "17fb8fcd-feb8-4ee3-b561-804813d86dd0",
   "metadata": {},
   "source": [
    "### Add node describtors for risk calculation later:"
   ]
  },
  {
   "cell_type": "code",
   "execution_count": 7,
   "id": "503789de-af85-466b-890d-c379e8da8c4e",
   "metadata": {
    "iooxa": {
     "id": {
      "block": "Dag1oRYbibJPCEAO30P2",
      "project": "cNRcIFOMOBAHj5O57Joq",
      "version": 1
     },
     "outputId": {
      "block": "jzcbgB4EZdoFec0VdJhm",
      "project": "cNRcIFOMOBAHj5O57Joq",
      "version": 1
     }
    }
   },
   "outputs": [
    {
     "name": "stderr",
     "output_type": "stream",
     "text": [
      "company: 100%|██████████| 5107631/5107631 [00:46<00:00, 110139.75it/s]\n",
      "officer_person: 100%|██████████| 10035057/10035057 [00:29<00:00, 342760.19it/s]\n",
      "officer_company: 100%|██████████| 313158/313158 [00:00<00:00, 626877.37it/s]\n",
      "psc_person: 100%|██████████| 9012596/9012596 [00:22<00:00, 397809.45it/s]\n",
      "psc_company: 100%|██████████| 702472/702472 [00:01<00:00, 491691.74it/s]\n"
     ]
    },
    {
     "name": "stdout",
     "output_type": "stream",
     "text": [
      "CPU times: user 1min 51s, sys: 5.37 s, total: 1min 57s\n",
      "Wall time: 1min 56s\n"
     ]
    }
   ],
   "source": [
    "%%time\n",
    "%load_ext autoreload\n",
    "%autoreload 2\n",
    "from data_cache.utils import NodeDescriber\n",
    "\n",
    "nd = NodeDescriber(per)\n",
    "nd.add_metadata(company_df, officer_df, psc_company_df, psc_person_df)"
   ]
  },
  {
   "cell_type": "markdown",
   "id": "76448310-b857-459d-b6e1-6185dc908d9a",
   "metadata": {},
   "source": [
    "### Find if entities have possible matches against Politicians datasets"
   ]
  },
  {
   "cell_type": "code",
   "execution_count": null,
   "id": "7f4c8507-2805-4706-aaf8-07899b177da9",
   "metadata": {},
   "outputs": [],
   "source": [
    "PEP, RUS = {}, {}\n",
    "for name, dob, country in zip(all_politicians.NAME, all_politicians.DOB, all_politicians.COUNTRY):\n",
    "    name = unidecode(name).lower()\n",
    "    PEP[name] = {\"country\": country, \"source\": \"every_politician\"}\n",
    "    if isinstance(dob, str):\n",
    "        PEP[name][\"yob\"] = int(dob[:4])\n",
    "        if len(dob) == 10:\n",
    "            PEP[name][\"mob\"] = int(dob[5:7])\n",
    "for name, dob, cat, tx in zip(ru_bl_peps.NAME_EN, ru_bl_peps.DOB, ru_bl_peps.CATEGORY, ru_bl_peps.TAXPAYER_NUM):\n",
    "    name = unidecode(name).lower()\n",
    "    RUS[name] = {\"country\": \"RU/BY\", \"category\": cat, \"taxpayer_num\": tx, \"source\": \"rupep.org\"}\n",
    "    if isinstance(dob, str) and len(dob) == 10:\n",
    "        RUS[name][\"yob\"] = int(dob[-4:])\n",
    "        RUS[name][\"mob\"] = int(dob[3:5])"
   ]
  },
  {
   "cell_type": "markdown",
   "id": "276470f1-084f-44c7-bc30-fa3a6905c170",
   "metadata": {
    "iooxa": {
     "id": {
      "block": "27gIHsImOPFu9FiC5HJe",
      "project": "cNRcIFOMOBAHj5O57Joq",
      "version": 1
     }
    }
   },
   "source": [
    "## Build subnetwork stats:"
   ]
  },
  {
   "cell_type": "code",
   "execution_count": 12,
   "id": "b78891af-f60f-415f-8fc4-dbd0ab0487f6",
   "metadata": {
    "iooxa": {
     "id": {
      "block": "EETu5XmgZCjgCT2mtRmt",
      "project": "cNRcIFOMOBAHj5O57Joq",
      "version": 1
     },
     "outputId": {
      "block": "zkzN2j3pJpxUBmPjXebN",
      "project": "cNRcIFOMOBAHj5O57Joq",
      "version": 1
     }
    },
    "tags": []
   },
   "outputs": [
    {
     "name": "stderr",
     "output_type": "stream",
     "text": [
      "Precomputing risk signals: 100%|██████████| 1000000/1000000 [50:37<00:00, 329.22it/s] \n"
     ]
    }
   ],
   "source": [
    "from tqdm import tqdm \n",
    "import numpy as np\n",
    "from utils import TAX_HEAVENS\n",
    "\n",
    "# How many networks to cache. UKCH Total in 2022 is about 7M.\n",
    "N = 1_000_000\n",
    "PROXY_TH = 50\n",
    "PARTITION_SIZE = 1000\n",
    "\n",
    "subnetwork_ids = list(gb.hash_to_subn_map.keys())[:N]\n",
    "\n",
    "def count_company_ratio(ns):\n",
    "    return np.mean([not n.startswith(\"p|\") for n in ns])\n",
    "\n",
    "def calculate_cyclicity(H):\n",
    "    if H.number_of_nodes() < 1:\n",
    "        print(f\"Non existent network: {netws}\")\n",
    "        return 0\n",
    "    E = H.number_of_edges()\n",
    "    N = H.number_of_nodes()\n",
    "    return (E + 1 - N)/(N*np.log(N))\n",
    "\n",
    "def netw_names(names):\n",
    "    names = set(names) - {None}\n",
    "    return \", \".join(sorted(names))\n",
    "\n",
    "def metadata_converter(md):\n",
    "    return \"; \".join([f\"{k}: {v}\" for k, v in md.items()])\n",
    "\n",
    "clc, node_num, dfs, company_ratio, entity_names, multi_jurisdiction, jur_names, netw_tax_haven = [], [], [], [], [], [], [], []\n",
    "nodes, proxy, is_person, tax_haven, jur, node_metadata, netws = [], [], [], [], [], [], []\n",
    "pep, pepm, r, rm, netw_pep, netw_r = [], [], [], [], [], []\n",
    "for _id in tqdm(subnetwork_ids[:N], desc= \"Precomputing risk signals\"):\n",
    "    \n",
    "    # Get networkx subgraph:\n",
    "    nw = gb.hash_to_subn_map[_id]\n",
    "    H = gb.G_undir.subgraph(nw)\n",
    "    \n",
    "    # Network:\n",
    "    clc.append(calculate_cyclicity(H))\n",
    "    node_num.append(len(nw))\n",
    "    company_ratio.append(count_company_ratio(nw))\n",
    "    \n",
    "    # Edges:\n",
    "    df = pd.DataFrame(H.edges.data(\"edge_type\"), columns =['source', 'target', 'type'])\n",
    "    df['subgraph_hash'] =_id\n",
    "    df['subgraph_partition'] =_id % PARTITION_SIZE\n",
    "    dfs.append(df)\n",
    "    \n",
    "    # Nodes:\n",
    "    ns = gb.hash_to_subn_map[_id]\n",
    "    netw_jurs, netw_entity_names = [], []\n",
    "    netw_pep_value, netw_r_value = 0, 0\n",
    "    for n in ns:\n",
    "        nodes.append(n)\n",
    "        netws.append(_id)\n",
    "        proxy.append(int(gb.G_undir.degree[n] > PROXY_TH))\n",
    "        is_person.append(int(n.startswith(\"p|\")))\n",
    "        node_metadata.append(nd.node_to_metadata.get(n, None))\n",
    "        \n",
    "        j = nd.node_to_jurs.get(n, set())\n",
    "        jur.append(\", \".join(sorted(j)))\n",
    "        tax_haven.append(int(len(j.intersection(TAX_HEAVENS)) > 0))\n",
    "        \n",
    "        netw_jurs.append(nd.node_to_jurs.get(n, None))\n",
    "        \n",
    "        name = nd.node_to_names.get(n, None)\n",
    "        netw_entity_names.append(name)\n",
    "        \n",
    "        if name is not None and name in RUS:\n",
    "            r.append(1)\n",
    "            rm.append(metadata_converter(RUS[name]))\n",
    "            netw_r_value += 1\n",
    "        else:\n",
    "            r.append(0)\n",
    "            rm.append(\"\")\n",
    "            \n",
    "        if name is not None and name in PEP:\n",
    "            pep.append(1)\n",
    "            pepm.append(metadata_converter(PEP[name]))\n",
    "            netw_pep_value += 1\n",
    "        else:\n",
    "            pep.append(0)\n",
    "            pepm.append(\"\")\n",
    "\n",
    "    netw_pep.append(netw_pep_value)\n",
    "    netw_r.append(netw_r_value)\n",
    "    jurs_in_subnetwork = list(set().union(*[n for n in netw_jurs if n is not None]))\n",
    "    jur_names.append(\"; \".join(jurs_in_subnetwork))\n",
    "    netw_tax_haven.append(int(len(set(jurs_in_subnetwork).intersection(TAX_HEAVENS))> 0))\n",
    "    multi_jurisdiction.append(int(len(jurs_in_subnetwork) > 1))\n",
    "    entity_names.append(netw_names(netw_entity_names))\n"
   ]
  },
  {
   "cell_type": "code",
   "execution_count": 17,
   "id": "efa05093-8e03-44d0-922f-e8e37302bc40",
   "metadata": {},
   "outputs": [
    {
     "name": "stdout",
     "output_type": "stream",
     "text": [
      "CPU times: user 4min, sys: 12.2 s, total: 4min 12s\n",
      "Wall time: 4min 11s\n"
     ]
    }
   ],
   "source": [
    "%%time\n",
    "PROXY_NETW_ID = set(nodes_df[nodes_df.proxy_dir==1].subgraph_hash)\n",
    "subnetwork_df[\"proxy\"] = [int(s in PROXY_NETW_ID) for s in subnetwork_df.network_id.tolist()]\n",
    "subnetwork_df = pd.DataFrame(data = {\n",
    "    \"network_id\": subnetwork_ids, \n",
    "    \"cyclicity\": clc, \n",
    "    \"node_num\": node_num, \n",
    "    \"company_ratio\": company_ratio,\n",
    "    \"multi_jurisdiction\": multi_jurisdiction, \n",
    "    \"tax_haven\": netw_tax_haven, \n",
    "    \"potential_pep_match\": netw_pep, \n",
    "    \"potential_rus_pep_match\": netw_r, \n",
    "    \"entity_names\": entity_names, \n",
    "    \"jur_names\": jur_names, \n",
    "})\n",
    "nodes_df = pd.DataFrame(data = {\n",
    "    'node_id': nodes, \n",
    "    'subgraph_hash': netws, \n",
    "    \"is_person\": is_person,\n",
    "    \"proxy_dir\": proxy, \n",
    "    \"node_metadata\": node_metadata,\n",
    "    \"tax_haven\": tax_haven, \n",
    "    \"jur\": jur,\n",
    "    \"politician\": pep, \n",
    "    \"politician_metadata\": pepm, \n",
    "    \"rus_politician\": r,\n",
    "    \"rus_politician_metadata\": rm, \n",
    "})\n",
    "edges_df = pd.concat(dfs)"
   ]
  },
  {
   "cell_type": "code",
   "execution_count": 38,
   "id": "3d6af603-5fa9-4eb9-8ce0-52a75ff27a44",
   "metadata": {},
   "outputs": [
    {
     "data": {
      "text/plain": [
       "((81482446, 5), (62008292, 12), (1000000, 11))"
      ]
     },
     "execution_count": 38,
     "metadata": {},
     "output_type": "execute_result"
    }
   ],
   "source": [
    "edges_df.shape, nodes_df.shape, subnetwork_df.shape"
   ]
  },
  {
   "cell_type": "code",
   "execution_count": 35,
   "id": "6164657c-f196-43b2-9c14-bc8bdce811fd",
   "metadata": {},
   "outputs": [],
   "source": [
    "subnetwork_df.to_parquet(schema['output_nodes'])\n",
    "edges_df.to_parquet(schema['output_nodes'], partition_cols = [\"subgraph_partition\"])\n",
    "nodes_df['subgraph_partition'] = nodes_df.subgraph_hash.apply(lambda x: x%1000)\n",
    "nodes_df.to_parquet(schema['output_nodes'], partition_cols = [\"subgraph_partition\"])"
   ]
  },
  {
   "cell_type": "code",
   "execution_count": null,
   "id": "5a26567c-2a19-484b-98bb-1bb4ccc154a9",
   "metadata": {},
   "outputs": [],
   "source": []
  }
 ],
 "metadata": {
  "iooxa": {
   "id": {
    "block": "VE4MftXdmZ856rMTec6u",
    "project": "cNRcIFOMOBAHj5O57Joq",
    "version": 1
   }
  },
  "kernelspec": {
   "display_name": "Python 3",
   "language": "python",
   "name": "python3"
  },
  "language_info": {
   "codemirror_mode": {
    "name": "ipython",
    "version": 3
   },
   "file_extension": ".py",
   "mimetype": "text/x-python",
   "name": "python",
   "nbconvert_exporter": "python",
   "pygments_lexer": "ipython3",
   "version": "3.8.7"
  }
 },
 "nbformat": 4,
 "nbformat_minor": 5
}
